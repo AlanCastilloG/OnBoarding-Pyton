{
 "cells": [
  {
   "cell_type": "code",
   "execution_count": 1,
   "metadata": {},
   "outputs": [
    {
     "name": "stdout",
     "output_type": "stream",
     "text": [
      "628949330\n",
      "390577533.93\n"
     ]
    }
   ],
   "source": [
    "planeta_1=149597870\n",
    "Planeta_2=778547200\n",
    "distancia = Planeta_2 - planeta_1\n",
    "print(distancia)\n",
    "\n",
    "distancia_2=distancia * 0.621\n",
    "print(distancia_2)\n"
   ]
  },
  {
   "cell_type": "code",
   "execution_count": 11,
   "metadata": {},
   "outputs": [
    {
     "name": "stdout",
     "output_type": "stream",
     "text": [
      "10\n",
      "6.21\n"
     ]
    }
   ],
   "source": [
    "Planeta_a=input('Distancia del sol al primer planeta en km')\n",
    "Planeta_b=input('Distancia del sol al segundo planeta en km')\n",
    "\n",
    "Planeta_a= int(Planeta_a)\n",
    "Planeta_b= int(Planeta_b)\n",
    "\n",
    "Distancia = Planeta_b - Planeta_a\n",
    "print(Distancia)\n",
    "\n",
    "distancia_R = Distancia *.621\n",
    "print(abs(distancia_R))"
   ]
  }
 ],
 "metadata": {
  "interpreter": {
   "hash": "137e664c615af9668e0d8138098d1b5df9e39fb523b823719b1e142d2d1149c0"
  },
  "kernelspec": {
   "display_name": "Python 3.10.2 64-bit (windows store)",
   "language": "python",
   "name": "python3"
  },
  "language_info": {
   "codemirror_mode": {
    "name": "ipython",
    "version": 3
   },
   "file_extension": ".py",
   "mimetype": "text/x-python",
   "name": "python",
   "nbconvert_exporter": "python",
   "pygments_lexer": "ipython3",
   "version": "3.10.2"
  },
  "orig_nbformat": 4
 },
 "nbformat": 4,
 "nbformat_minor": 2
}
