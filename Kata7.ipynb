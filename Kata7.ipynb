{
 "cells": [
  {
   "cell_type": "code",
   "execution_count": 17,
   "metadata": {},
   "outputs": [
    {
     "name": "stdout",
     "output_type": "stream",
     "text": [
      "lolo\n",
      "lala\n",
      "lilo\n"
     ]
    }
   ],
   "source": [
    "Planeta_Nuevo = ''\n",
    "Planets = []\n",
    "\n",
    "while Planeta_Nuevo.lower() != 'done' :\n",
    "    if Planeta_Nuevo:\n",
    "          Planets.append(Planeta_Nuevo)\n",
    "    Planeta_Nuevo = input ('Nuevo Planeta ')\n",
    "\n",
    "for Planeta in Planets:\n",
    "    print(Planeta )"
   ]
  }
 ],
 "metadata": {
  "interpreter": {
   "hash": "137e664c615af9668e0d8138098d1b5df9e39fb523b823719b1e142d2d1149c0"
  },
  "kernelspec": {
   "display_name": "Python 3.10.2 64-bit (windows store)",
   "language": "python",
   "name": "python3"
  },
  "language_info": {
   "codemirror_mode": {
    "name": "ipython",
    "version": 3
   },
   "file_extension": ".py",
   "mimetype": "text/x-python",
   "name": "python",
   "nbconvert_exporter": "python",
   "pygments_lexer": "ipython3",
   "version": "3.10.2"
  },
  "orig_nbformat": 4
 },
 "nbformat": 4,
 "nbformat_minor": 2
}
