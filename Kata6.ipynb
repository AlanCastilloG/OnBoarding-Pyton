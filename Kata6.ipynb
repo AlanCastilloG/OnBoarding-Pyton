{
 "cells": [
  {
   "cell_type": "code",
   "execution_count": 4,
   "metadata": {},
   "outputs": [
    {
     "name": "stdout",
     "output_type": "stream",
     "text": [
      "There are 8 planets\n",
      "Pluto is the last planet\n"
     ]
    }
   ],
   "source": [
    "planets = ['Mercury', 'Venus', 'Earth', 'Mars', 'Jupiter', 'Saturn', 'Uranus', 'Neptune']\n",
    "\n",
    "print('There are', len(planets), 'planets')\n",
    "planets.append('Pluto')\n",
    "\n",
    "print(planets[-1], 'is the last planet')"
   ]
  },
  {
   "cell_type": "code",
   "execution_count": 11,
   "metadata": {},
   "outputs": [
    {
     "name": "stdout",
     "output_type": "stream",
     "text": [
      "Planetas mas cercaMarte\n",
      "['Mercurio', 'Venus', 'Tierra']\n",
      "Planetas mas lejosMarte\n",
      "['Jupiter']\n"
     ]
    }
   ],
   "source": [
    "Planet = ['Mercurio','Venus','Tierra','Marte','Jupiter',]\n",
    "\n",
    "Usuario = input('Ingresa en nombre del planeta.primera letra en Mayuscula ')\n",
    "Planet_index = Planet.index(Usuario)\n",
    "\n",
    "print('Planetas mas cerca' + Usuario)\n",
    "print(Planet[0:Planet_index])\n",
    "\n",
    "print('Planetas mas lejos' + Usuario)\n",
    "print(Planet[Planet_index + 1:])\n"
   ]
  }
 ],
 "metadata": {
  "interpreter": {
   "hash": "137e664c615af9668e0d8138098d1b5df9e39fb523b823719b1e142d2d1149c0"
  },
  "kernelspec": {
   "display_name": "Python 3.10.2 64-bit (windows store)",
   "language": "python",
   "name": "python3"
  },
  "language_info": {
   "codemirror_mode": {
    "name": "ipython",
    "version": 3
   },
   "file_extension": ".py",
   "mimetype": "text/x-python",
   "name": "python",
   "nbconvert_exporter": "python",
   "pygments_lexer": "ipython3",
   "version": "3.10.2"
  },
  "orig_nbformat": 4
 },
 "nbformat": 4,
 "nbformat_minor": 2
}
