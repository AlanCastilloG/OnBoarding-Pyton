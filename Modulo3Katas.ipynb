{
 "cells": [
  {
   "cell_type": "code",
   "execution_count": 2,
   "metadata": {},
   "outputs": [
    {
     "name": "stdout",
     "output_type": "stream",
     "text": [
      "Todo correcto \n"
     ]
    }
   ],
   "source": [
    "asteroide=49\n",
    "if asteroide < 25:\n",
    "    print(\"!!!Advertencia!!!! \")\n",
    "else :\n",
    "    print(\"Todo correcto \")\n"
   ]
  },
  {
   "cell_type": "code",
   "execution_count": 3,
   "metadata": {},
   "outputs": [
    {
     "name": "stdout",
     "output_type": "stream",
     "text": [
      "No hay nada :( \n"
     ]
    }
   ],
   "source": [
    "asteriode=19\n",
    "if asteriode > 20:\n",
    "    print(\"!!Rayo de luz visto!! \")\n",
    "elif asteroide == 20:\n",
    "    print(\"!!Rayo de luz !!\")\n",
    "else :\n",
    "    print(\"No hay nada :( \") \n",
    "     "
   ]
  },
  {
   "cell_type": "code",
   "execution_count": 9,
   "metadata": {},
   "outputs": [
    {
     "name": "stdout",
     "output_type": "stream",
     "text": [
      "Que bonita luz !!\n"
     ]
    }
   ],
   "source": [
    "VelAsteroide = 30\n",
    "TamAsteroide=25\n",
    "\n",
    "if VelAsteroide > 25 and TamAsteroide > 25:\n",
    "    print(\"!! Peligro Corra !!\")\n",
    "elif VelAsteroide >= 20:\n",
    "    print(\"Que bonita luz !!\")\n",
    "elif TamAsteroide <25:\n",
    "    print(\"No hay peligro \")\n",
    "else :\n",
    "    print(\"Siga con su vida\")\n"
   ]
  }
 ],
 "metadata": {
  "interpreter": {
   "hash": "137e664c615af9668e0d8138098d1b5df9e39fb523b823719b1e142d2d1149c0"
  },
  "kernelspec": {
   "display_name": "Python 3.10.2 64-bit (windows store)",
   "language": "python",
   "name": "python3"
  },
  "language_info": {
   "codemirror_mode": {
    "name": "ipython",
    "version": 3
   },
   "file_extension": ".py",
   "mimetype": "text/x-python",
   "name": "python",
   "nbconvert_exporter": "python",
   "pygments_lexer": "ipython3",
   "version": "3.10.2"
  },
  "orig_nbformat": 4
 },
 "nbformat": 4,
 "nbformat_minor": 2
}
